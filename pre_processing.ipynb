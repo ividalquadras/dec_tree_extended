{
 "cells": [
  {
   "cell_type": "code",
   "execution_count": 12,
   "metadata": {},
   "outputs": [],
   "source": [
    "import pandas as pd\n",
    "import numpy as np\n",
    "import sklearn\n",
    "import random\n",
    "import time\n",
    "import scipy\n",
    "import datetime\n",
    "from datetime import timedelta"
   ]
  },
  {
   "cell_type": "markdown",
   "metadata": {},
   "source": [
    "### Age\n",
    "I will extract the year from the date of birth and from the admitted time in order to substract it and see how old the client is when admitted as a patinet. \n",
    "\n",
    "Ther is a particularity here, if the patient is older han 89 when being admitted, then the program sets it to 300 plus the years since his first admition. I found on the website that the median of these patients is 91.4 and therefor I will add the differnece betweend 300 and the age to the median"
   ]
  },
  {
   "cell_type": "code",
   "execution_count": 13,
   "metadata": {},
   "outputs": [],
   "source": [
    "def get_age(date_time_string_birth, date_time_string_admit, Diff):\n",
    "        date_birth = datetime.datetime.strptime(date_time_string_birth, '%Y-%m-%d %H:%M:%S') + datetime.timedelta(Diff)\n",
    "        date_admit = datetime.datetime.strptime(date_time_string_admit, '%Y-%m-%d %H:%M:%S') + datetime.timedelta(Diff)\n",
    "        age = (date_admit - date_birth).days/365\n",
    "        if age >= 300:\n",
    "            return 91.4 + (age - 300)\n",
    "        else:\n",
    "            return age"
   ]
  },
  {
   "cell_type": "markdown",
   "metadata": {},
   "source": [
    "### Weekday, season, night\n",
    "I will extract the weekday of the admit time because I suspect it might have some explanatory power as the on weekend there are usually worse doctors than dusing the week. The weekday is returned with numbers and I want it as a categorical so I will later transform them into categorical\n",
    "\n",
    "I will also extract the season, as it might be that on Winter, due to the cold it is easier to get fever and this can increase the probability of death\n",
    "\n",
    "I will extract the hour in which the patient was admitted to later categorize whether or not the patient was admitted at night, when the doctors are usually worse. I consider night from 8pm to 7am\n",
    "\n",
    "Finally, I will extract if the client was admitted in holiday period, being holiday priod July and August."
   ]
  },
  {
   "cell_type": "code",
   "execution_count": 14,
   "metadata": {},
   "outputs": [],
   "source": [
    "#Weekday\n",
    "def get_weekday(date_time_string, Diff):\n",
    "    date = datetime.datetime.strptime(date_time_string, '%Y-%m-%d %H:%M:%S') + timedelta(Diff)\n",
    "    return date.weekday()\n",
    "#Transform the weekday into categorical\n",
    "week_dic = {0:'Monday', 1:'Tuesday', 2:'Wednesday', 3:'Thursday', 4:'Friday', 5:'Saturday', 6:'Sunday'}\n",
    "\n",
    "\n",
    "#Season\n",
    "def get_season(date_time_string, Diff):\n",
    "    date = datetime.datetime.strptime(date_time_string, '%Y-%m-%d %H:%M:%S') + datetime.timedelta(Diff)\n",
    "    month = date.month\n",
    "    if month in [12,1,2]:\n",
    "        return 'Winter'\n",
    "    elif month in [3,4,5]:\n",
    "        return 'Spring'\n",
    "    elif month in [6,7,8]:\n",
    "        return 'Summer'\n",
    "    else:\n",
    "        return 'Autumn'\n",
    "\n",
    "    \n",
    "#Holiday\n",
    "def get_holiday(date_time_string, Diff):\n",
    "    date = datetime.datetime.strptime(date_time_string, '%Y-%m-%d %H:%M:%S') + datetime.timedelta(Diff)\n",
    "    month = date.month\n",
    "    if month in [7,8]:\n",
    "        return 'Holiday'\n",
    "    else:\n",
    "        return 'Non Holiday'\n",
    "\n",
    "\n",
    "# Night\n",
    "def get_hour(date_time_string):\n",
    "    return datetime.datetime.strptime(date_time_string, '%Y-%m-%d %H:%M:%S').hour\n",
    "\n",
    "#Transform the hour into a categirical\n",
    "def night(x):\n",
    "    if x >= 20 or x < 7:\n",
    "        return 1\n",
    "    else:\n",
    "        return 0\n"
   ]
  },
  {
   "cell_type": "markdown",
   "metadata": {},
   "source": [
    "### Ethnics\n",
    "\n",
    "After exploring the data, I could see that there were 4 main groups, white, black, hispanic and asian. So I will create another variable with just the subgroup and if the race is none of the ones mentioned avobe, then I will just classify it as other"
   ]
  },
  {
   "cell_type": "code",
   "execution_count": 15,
   "metadata": {},
   "outputs": [],
   "source": [
    "subgroups = ['WHITE','BLACK','HISPANIC','ASIAN']\n",
    "def get_subgroup(group):\n",
    "    counter = 0\n",
    "    for subgroup in subgroups:\n",
    "        if subgroup in group:\n",
    "            counter += 1\n",
    "            return subgroup\n",
    "    if counter == 0:\n",
    "        return 'OTHER'"
   ]
  },
  {
   "cell_type": "markdown",
   "metadata": {},
   "source": [
    "### Religion\n",
    "After exploring the data, I could see that there were 4 main groups; catholic, muslim, jewish and protestant. So I will create another variable with just the subgroup and if the religion is none of the ones mentioned avobe, then I will just classify it as other"
   ]
  },
  {
   "cell_type": "code",
   "execution_count": 16,
   "metadata": {},
   "outputs": [],
   "source": [
    "subgroups = ['CATHOLIC','JEWISH','MUSLIM','PROTESTANT']"
   ]
  },
  {
   "cell_type": "markdown",
   "metadata": {},
   "source": [
    "### Categorical encoding\n",
    "I will encode the categoricals using target encoding. I have tried creating dummies but, besides being much slower, the algorythm works worse.\n",
    "\n",
    "Notice that on this code we don't use the same procedure for ICD9_diagnosis. This is because it might be the case that the diagnosis in the test sample is a new one (does not exist in the train set), in this case I will assign to this variable the general progability of dying."
   ]
  },
  {
   "cell_type": "markdown",
   "metadata": {},
   "source": [
    "### Pipelines"
   ]
  },
  {
   "cell_type": "code",
   "execution_count": 17,
   "metadata": {},
   "outputs": [],
   "source": [
    "def pipeline_data(data):\n",
    "    data['age'] = data.apply(lambda x: get_age(x.DOB, x.ADMITTIME, x.Diff), axis=1)\n",
    "    \n",
    "    data['weekday'] = data.apply(lambda x: get_weekday(x.ADMITTIME, x.Diff), axis=1)\n",
    "    data['WEEKDAY'] = data['weekday'].apply(lambda x: week_dic[x])\n",
    "\n",
    "    data['SEASON'] = data.apply(lambda x: get_season(x.ADMITTIME, x.Diff), axis=1)\n",
    "\n",
    "    data['HOLIDAY'] = data.apply(lambda x: get_holiday(x.ADMITTIME, x.Diff), axis=1)\n",
    "    \n",
    "    data['hour'] = data.ADMITTIME.apply(get_hour)\n",
    "    data['NIGHT'] = data['hour'].apply(night)\n",
    "    \n",
    "    data['ETHNICS'] = data.ETHNICITY.apply(get_subgroup)\n",
    "    \n",
    "    data['RELIGION'] = data.RELIGION.apply(get_subgroup)\n",
    "    \n",
    "    return data"
   ]
  },
  {
   "cell_type": "code",
   "execution_count": 18,
   "metadata": {},
   "outputs": [],
   "source": [
    "def pipeline_data_test(data_test):\n",
    "    data_test['age'] = data_test.apply(lambda x: get_age(x.DOB, x.ADMITTIME, x.Diff), axis=1)\n",
    "    \n",
    "    data_test['weekday'] = data_test.apply(lambda x: get_weekday(x.ADMITTIME, x.Diff), axis=1)\n",
    "    data_test['WEEKDAY'] = data_test['weekday'].apply(lambda x: week_dic[x])\n",
    "\n",
    "    data_test['SEASON'] = data_test.apply(lambda x: get_season(x.ADMITTIME, x.Diff), axis=1)\n",
    "\n",
    "    data_test['HOLIDAY'] = data_test.apply(lambda x: get_holiday(x.ADMITTIME, x.Diff), axis=1)\n",
    "    \n",
    "    data_test['hour'] = data_test.ADMITTIME.apply(get_hour)\n",
    "    data_test['NIGHT'] = data_test['hour'].apply(night)\n",
    "    \n",
    "    data_test['ETHNICS'] = data_test.ETHNICITY.apply(get_subgroup)\n",
    "    \n",
    "    data_test['RELIGION'] = data_test.RELIGION.apply(get_subgroup)\n",
    "\n",
    "    return data_test"
   ]
  },
  {
   "cell_type": "code",
   "execution_count": 19,
   "metadata": {},
   "outputs": [],
   "source": [
    "def data_pre_processing_to_csv(path = '/home/jovyan/work/Downloads/kNN_project/Data/mimic_train.csv'):\n",
    "    data=pd.read_csv(path)\n",
    "    data = pipeline_data(data)\n",
    "    return data.to_csv('/home/jovyan/work/Desktop/msc_Data_Science/term_1/computational_ml/dec_tree/dec_tree_extended/pre_processed_data.csv', header = True)"
   ]
  },
  {
   "cell_type": "code",
   "execution_count": 20,
   "metadata": {},
   "outputs": [],
   "source": [
    "def data_test_pre_processing_to_csv(path = '/home/jovyan/work/Downloads/kNN_project/Data/mimic_test_death.csv'):\n",
    "    data_test = pd.read_csv(path)\n",
    "    data_test = pipeline_data_test(data_test)\n",
    "    return data_test.to_csv('/home/jovyan/work/Desktop/msc_Data_Science/term_1/computational_ml/dec_tree/dec_tree_extended/pre_processed_data_test.csv', header = True)"
   ]
  },
  {
   "cell_type": "markdown",
   "metadata": {},
   "source": [
    "Save data as CSV"
   ]
  },
  {
   "cell_type": "code",
   "execution_count": 21,
   "metadata": {},
   "outputs": [],
   "source": [
    "data_pre_processing_to_csv()\n",
    "data_test_pre_processing_to_csv()"
   ]
  },
  {
   "cell_type": "code",
   "execution_count": 22,
   "metadata": {},
   "outputs": [],
   "source": []
  }
 ],
 "metadata": {
  "kernelspec": {
   "display_name": "Python 3",
   "language": "python",
   "name": "python3"
  },
  "language_info": {
   "codemirror_mode": {
    "name": "ipython",
    "version": 3
   },
   "file_extension": ".py",
   "mimetype": "text/x-python",
   "name": "python",
   "nbconvert_exporter": "python",
   "pygments_lexer": "ipython3",
   "version": "3.8.5"
  }
 },
 "nbformat": 4,
 "nbformat_minor": 4
}
